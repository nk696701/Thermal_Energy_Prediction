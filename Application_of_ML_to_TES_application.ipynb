{
  "cells": [
    {
      "cell_type": "markdown",
      "metadata": {
        "id": "view-in-github",
        "colab_type": "text"
      },
      "source": [
        "<a href=\"https://colab.research.google.com/github/nk696701/Thermal_Energy_Prediction/blob/main/Application_of_ML_to_TES_application.ipynb\" target=\"_parent\"><img src=\"https://colab.research.google.com/assets/colab-badge.svg\" alt=\"Open In Colab\"/></a>"
      ]
    },
    {
      "cell_type": "markdown",
      "metadata": {
        "id": "bV9-1j3Da-b6"
      },
      "source": [
        "# Libraries"
      ]
    },
    {
      "cell_type": "code",
      "source": [
        "from google.colab import drive\n",
        "drive.mount('/content/drive')"
      ],
      "metadata": {
        "colab": {
          "base_uri": "https://localhost:8080/"
        },
        "id": "V-1-u8wDbrb8",
        "outputId": "b56af58c-de53-449c-e730-c3f9645d1f03"
      },
      "execution_count": null,
      "outputs": [
        {
          "output_type": "stream",
          "name": "stdout",
          "text": [
            "Mounted at /content/drive\n"
          ]
        }
      ]
    },
    {
      "cell_type": "code",
      "execution_count": null,
      "metadata": {
        "id": "ncNcZitpa-b_"
      },
      "outputs": [],
      "source": [
        "from PIL import Image\n",
        "import os\n",
        "import numpy as np\n",
        "from sklearn.metrics import confusion_matrix, accuracy_score,roc_curve ,auc\n",
        "import tensorflow as tf\n",
        "import matplotlib.pyplot as plt"
      ]
    },
    {
      "cell_type": "markdown",
      "source": [
        "**CNN Architecture**"
      ],
      "metadata": {
        "id": "ikbJiA5l9Yyw"
      }
    },
    {
      "cell_type": "code",
      "execution_count": null,
      "metadata": {
        "id": "ofMh_Gt_a-b_"
      },
      "outputs": [],
      "source": [
        "\n",
        "def create_cnn(width=154, height=154, depth=3, filters=(16, 32, 64)):\n",
        "    inputShape = (height, width, depth)\n",
        "    chanDim = -1\n",
        "\n",
        "    input = tf.keras.Input(shape=inputShape)\n",
        "\n",
        "    # loop over the number of filters\n",
        "    for (i, f) in enumerate(filters):\n",
        "        if i == 0:\n",
        "            x = input\n",
        "        # CONV => RELU => BN => POOL\n",
        "        x = tf.keras.layers.Conv2D(f, 3, padding=\"same\")(x)\n",
        "        x = tf.keras.layers.Activation(\"relu\")(x)\n",
        "        x = tf.keras.layers.BatchNormalization(axis=chanDim)(x)\n",
        "        x = tf.keras.layers.MaxPooling2D(pool_size=(2, 2))(x)\n",
        "\n",
        "    x = tf.keras.layers.Flatten()(x)\n",
        "    x = tf.keras.layers.Dense(512)(x)\n",
        "    x = tf.keras.layers.Activation(\"relu\")(x)\n",
        "    x = tf.keras.layers.BatchNormalization(axis=chanDim)(x)\n",
        "    x = tf.keras.layers.Dropout(0.1)(x)\n",
        "\n",
        "    x = tf.keras.layers.Dense(512)(x)\n",
        "    x = tf.keras.layers.Activation(\"relu\")(x)\n",
        "    x = tf.keras.layers.BatchNormalization(axis=chanDim)(x)\n",
        "    x = tf.keras.layers.Dropout(0.1)(x)\n",
        "\n",
        "    x = tf.keras.layers.Dense(256)(x)\n",
        "    x = tf.keras.layers.Activation(\"relu\")(x)\n",
        "    x = tf.keras.layers.BatchNormalization(axis=chanDim)(x)\n",
        "    x = tf.keras.layers.Dropout(0.2)(x)\n",
        "\n",
        "    x = tf.keras.layers.Dense(11)(x)\n",
        "    x = tf.keras.layers.Activation(\"sigmoid\")(x)\n",
        "\n",
        "    # construct the CNN\n",
        "    model = tf.keras.Model(input, x)\n",
        "\n",
        "    # return the CNN\n",
        "    return model\n"
      ]
    },
    {
      "cell_type": "code",
      "source": [],
      "metadata": {
        "id": "FxdiiyiNfM8A"
      },
      "execution_count": null,
      "outputs": []
    },
    {
      "cell_type": "markdown",
      "metadata": {
        "id": "eGfJ7jNCa-cA"
      },
      "source": [
        "# Preprocessing\n"
      ]
    },
    {
      "cell_type": "markdown",
      "source": [
        "**Code to use when train and test images are in seperate folders**"
      ],
      "metadata": {
        "id": "P4IMBM6qev8w"
      }
    },
    {
      "cell_type": "code",
      "execution_count": null,
      "metadata": {
        "id": "wRP9QxQ2a-cA"
      },
      "outputs": [],
      "source": [
        "\n",
        "def process_data(data_path):\n",
        "    data = {}\n",
        "    X = np.empty((0, 154, 154, 3), float)\n",
        "    Y = np.empty((0), int)\n",
        "\n",
        "    for classes in os.listdir(data_path):\n",
        "        img_path = os.path.join(data_path, classes)\n",
        "        cls = int(classes)\n",
        "        if data.get(cls) is None:\n",
        "            data[cls] = []\n",
        "\n",
        "        for images in os.listdir(img_path):\n",
        "            fmt = images.split('.')\n",
        "            if fmt[-1] == \"jpg\":\n",
        "                image_path = os.path.join(img_path, images)\n",
        "                img = Image.open(image_path)\n",
        "                width, height = img.size\n",
        "                top_crop = 66\n",
        "                bottom_crop = 20\n",
        "                left_crop = 43\n",
        "                right_crop = 43\n",
        "                box = (left_crop, top_crop, width-right_crop, height-bottom_crop)\n",
        "                cropped_img = img.crop(box)\n",
        "                data[cls].append(np.array(cropped_img))\n",
        "                img.close()\n",
        "\n",
        "        n_data = len(data[cls])\n",
        "        Y = np.append(Y, [cls] * n_data, axis=0)\n",
        "        X = np.append(X, data[cls], axis=0)\n",
        "\n",
        "    return X, Y\n",
        "\n",
        "\n",
        "\n"
      ]
    },
    {
      "cell_type": "code",
      "source": [
        "# Process train data\n",
        "train_path = '/content/drive/MyDrive/Colab Notebooks/Thermal Energy Prediction/Ushara training data/'\n",
        "X_train, Y_train = process_data(train_path)\n",
        "\n",
        "# Process test data\n",
        "test_path = '/content/drive/MyDrive/Colab Notebooks/Thermal Energy Prediction/June 12,14 data/'\n",
        "X_test, Y_test = process_data(test_path)\n",
        "\n",
        "# Perform one-hot encoding for Y_train\n",
        "num_classes = len(np.unique(Y_train))\n",
        "Y_train_encoded = np.zeros((num_classes, len(Y_train)))\n",
        "for i in range(len(Y_train)):\n",
        "    Y_train_encoded[Y_train[i] // 10, i] = 1"
      ],
      "metadata": {
        "id": "FGcOSUEj_V61"
      },
      "execution_count": null,
      "outputs": []
    },
    {
      "cell_type": "markdown",
      "source": [
        "**Code to use when train and test images are in one single folder**"
      ],
      "metadata": {
        "id": "2ot3yCk98dYp"
      }
    },
    {
      "cell_type": "code",
      "source": [
        "base_path = '/content/drive/MyDrive/Colab Notebooks/Thermal Energy Prediction/test_data/'\n",
        "data = {}\n",
        "for classes in os.listdir(base_path):\n",
        "    img_path = base_path+classes+'/'\n",
        "    cls = int(classes)\n",
        "    if  data.get(cls) is None:\n",
        "        data[cls] = []\n",
        "\n",
        "    for images in os.listdir(img_path):\n",
        "        fmt = images.split('.')\n",
        "\n",
        "        if fmt[-1] == \"jpg\":\n",
        "            id = fmt[0]\n",
        "            image_path = img_path + images\n",
        "            img = Image.open(image_path)\n",
        "            width, height = img.size\n",
        "            top_crop = 66\n",
        "            bottom_crop = 20\n",
        "            left_crop = 43\n",
        "            right_crop = 43\n",
        "            box = (left_crop, top_crop, width-right_crop, height - bottom_crop)\n",
        "            cropped_img = img.crop(box)\n",
        "            data[cls].append(np.array(cropped_img))\n",
        "            img.close()\n",
        "\n",
        "n_train = 4\n",
        "Y_train = np.empty((0), int)\n",
        "Y_test = np.empty((0), int)\n",
        "X_train = np.empty((0,154,154,3), float)\n",
        "X_test = np.empty((0,154,154,3), float)\n",
        "\n",
        "for label in data:\n",
        "    #if label != 90:\n",
        "        n = len(data[label])\n",
        "        Y_train = np.append(Y_train, [label]*n_train, axis=0)\n",
        "        X_train = np.append(X_train, data[label][0:n_train], axis=0)\n",
        "        n -= n_train\n",
        "        Y_test = np.append(Y_test, [label]*n, axis=0)\n",
        "        X_test = np.append(X_test, data[label][n_train:], axis=0)\n",
        "\"\"\" else:\n",
        "        dtr = np.array(data[label][0])\n",
        "        dtr = dtr[np.newaxis,:]\n",
        "        dte = np.array(data[label][1])\n",
        "        dte = dte[np.newaxis,:]\n",
        "        Y_train = np.append(Y_train, [label], axis=0)\n",
        "        X_train = np.append(X_train, dtr, axis=0)\n",
        "        Y_test = np.append(Y_test, [label], axis=0)\n",
        "X_test = np.append(X_test, dte, axis=0)\"\"\"\n",
        "\n",
        "\"\"\"X_train = np.append(X_train, X_test, axis=0)\n",
        "Y_train = np.append(Y_train, Y_test, axis=0)\n",
        "X_test = X_train\n",
        "Y_test = Y_train\"\"\"\n",
        "\n",
        "Y = np.zeros((10, len(Y_train)))\n",
        "for i in range(0,len(Y_train)):\n",
        "    Y[Y_train[i]//10,i] = 1"
      ],
      "metadata": {
        "id": "7_Km6OTx8F3J"
      },
      "execution_count": null,
      "outputs": []
    },
    {
      "cell_type": "markdown",
      "metadata": {
        "id": "Gfn1bMx_a-cA"
      },
      "source": [
        "# Training the model"
      ]
    },
    {
      "cell_type": "code",
      "execution_count": null,
      "metadata": {
        "id": "mR217xDwa-cA"
      },
      "outputs": [],
      "source": [
        "model = create_cnn(154, 154, 3)\n",
        "model.compile(loss='categorical_crossentropy', optimizer='adam', metrics=['accuracy'])\n",
        "model.fit(x=X_train, y=Y_train_encoded.T, epochs=50, batch_size=50)"
      ]
    },
    {
      "cell_type": "markdown",
      "metadata": {
        "id": "MStwYOqCa-cB"
      },
      "source": [
        "# Testing\n"
      ]
    },
    {
      "cell_type": "code",
      "execution_count": null,
      "metadata": {
        "colab": {
          "base_uri": "https://localhost:8080/"
        },
        "id": "H8X2IuV1a-cB",
        "outputId": "d3ad7579-29f5-4acf-8ac2-2ec175585a82"
      },
      "outputs": [
        {
          "output_type": "stream",
          "name": "stdout",
          "text": [
            "10/10 [==============================] - 4s 332ms/step\n",
            "Confusion Matrix :\n",
            "[[15  1  0  0  0  0  0  0  0  0  0]\n",
            " [ 5 13  6  0  0  0  0  0  0  0  0]\n",
            " [ 0  0 25  0  0  0  0  0  0  0  0]\n",
            " [ 2  0  4 25  0  0  0  0  0  0  0]\n",
            " [ 1  0  0 11 22  1  0  0  0  0  0]\n",
            " [ 1  0  0  8  0 25  0  0  0  0  0]\n",
            " [ 4  0  0  1  1  4 25  2  0  0  0]\n",
            " [ 0  0  0  0  1  2  5 38  0  0  1]\n",
            " [ 0  0  0  0  0  0  3  5 25  0  4]\n",
            " [ 0  0  0  0  0  0  0  3  4  8  3]\n",
            " [ 0  0  0  0  0  0  0  4  5  0  5]]\n",
            "\n",
            "Accuracy: 0.71\n",
            "\n"
          ]
        }
      ],
      "source": [
        "preds = model.predict(X_test)\n",
        "y_pred = np.zeros(len(preds))\n",
        "\n",
        "for i in range(0,len(preds)):\n",
        "    y_pred[i] = 10 * np.argmax(preds[i,:])\n",
        "\n",
        "print(\"Confusion Matrix :\")\n",
        "print(confusion_matrix(Y_test, y_pred))\n",
        "print('\\nAccuracy: {:.2f}\\n'.format(accuracy_score(Y_test, y_pred)))\n"
      ]
    },
    {
      "cell_type": "code",
      "source": [
        "# Perform one-hot encoding for Y_test\n",
        "Y_test_encoded = np.zeros((num_classes, len(Y_test)))\n",
        "for i in range(len(Y_test)):\n",
        "    Y_test_encoded[Y_test[i] // 10, i] = 1"
      ],
      "metadata": {
        "id": "C-7SOvOMpMVg"
      },
      "execution_count": null,
      "outputs": []
    },
    {
      "cell_type": "code",
      "source": [
        "# Compute ROC curve and AUC\n",
        "fpr, tpr, thresholds = roc_curve(Y_test_encoded.T.flatten(), preds.flatten())\n",
        "roc_auc = auc(fpr, tpr)\n",
        "\n",
        "# Plot ROC curve\n",
        "plt.figure()\n",
        "plt.plot(fpr, tpr, color='darkorange', lw=2, label='ROC curve (AUC = %0.2f)' % roc_auc)\n",
        "plt.plot([0, 1], [0, 1], color='navy', lw=2, linestyle='--')\n",
        "plt.xlim([0.0, 1.0])\n",
        "plt.ylim([0.0, 1.05])\n",
        "plt.xlabel('False Positive Rate')\n",
        "plt.ylabel('True Positive Rate')\n",
        "plt.title('Receiver Operating Characteristic')\n",
        "plt.legend(loc=\"lower right\")\n",
        "plt.show()"
      ],
      "metadata": {
        "id": "oYrXcGw-0d9n",
        "colab": {
          "base_uri": "https://localhost:8080/",
          "height": 472
        },
        "outputId": "dde28503-3816-4dc9-aae4-001afe25fc44"
      },
      "execution_count": null,
      "outputs": [
        {
          "output_type": "display_data",
          "data": {
            "text/plain": [
              "<Figure size 640x480 with 1 Axes>"
            ],
            "image/png": "[encoded data removed]"
          },
          "metadata": {}
        }
      ]
    },
    {
      "cell_type": "code",
      "source": [],
      "metadata": {
        "id": "0egdXwS2hwpV"
      },
      "execution_count": null,
      "outputs": []
    }
  ],
  "metadata": {
    "kernelspec": {
      "display_name": "Python 3 (ipykernel)",
      "language": "python",
      "name": "python3"
    },
    "language_info": {
      "codemirror_mode": {
        "name": "ipython",
        "version": 3
      },
      "file_extension": ".py",
      "mimetype": "text/x-python",
      "name": "python",
      "nbconvert_exporter": "python",
      "pygments_lexer": "ipython3",
      "version": "3.9.13"
    },
    "colab": {
      "provenance": [],
      "include_colab_link": true
    }
  },
  "nbformat": 4,
  "nbformat_minor": 0
}