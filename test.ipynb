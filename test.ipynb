{
 "cells": [
  {
   "attachments": {},
   "cell_type": "markdown",
   "metadata": {},
   "source": [
    "# Libraries"
   ]
  },
  {
   "cell_type": "code",
   "execution_count": 1,
   "metadata": {},
   "outputs": [
    {
     "name": "stderr",
     "output_type": "stream",
     "text": [
      "2023-05-02 13:47:17.892856: I tensorflow/core/platform/cpu_feature_guard.cc:193] This TensorFlow binary is optimized with oneAPI Deep Neural Network Library (oneDNN) to use the following CPU instructions in performance-critical operations:  AVX2 FMA\n",
      "To enable them in other operations, rebuild TensorFlow with the appropriate compiler flags.\n",
      "2023-05-02 13:47:21.899085: E tensorflow/stream_executor/cuda/cuda_blas.cc:2981] Unable to register cuBLAS factory: Attempting to register factory for plugin cuBLAS when one has already been registered\n",
      "2023-05-02 13:47:27.665644: W tensorflow/stream_executor/platform/default/dso_loader.cc:64] Could not load dynamic library 'libnvinfer.so.7'; dlerror: libnvinfer.so.7: cannot open shared object file: No such file or directory\n",
      "2023-05-02 13:47:27.665925: W tensorflow/stream_executor/platform/default/dso_loader.cc:64] Could not load dynamic library 'libnvinfer_plugin.so.7'; dlerror: libnvinfer_plugin.so.7: cannot open shared object file: No such file or directory\n",
      "2023-05-02 13:47:27.665938: W tensorflow/compiler/tf2tensorrt/utils/py_utils.cc:38] TF-TRT Warning: Cannot dlopen some TensorRT libraries. If you would like to use Nvidia GPU with TensorRT, please make sure the missing libraries mentioned above are installed properly.\n"
     ]
    }
   ],
   "source": [
    "import flirimageextractor\n",
    "from matplotlib import cm\n",
    "import os\n",
    "import numpy as np\n",
    "import warnings\n",
    "import tensorflow as tf\n",
    "from sklearn.metrics import confusion_matrix, accuracy_score\n",
    "warnings.filterwarnings(\"ignore\", category=RuntimeWarning)"
   ]
  },
  {
   "attachments": {},
   "cell_type": "markdown",
   "metadata": {},
   "source": [
    "# Functions"
   ]
  },
  {
   "cell_type": "code",
   "execution_count": 2,
   "metadata": {},
   "outputs": [],
   "source": [
    "class preprocess():\n",
    "    def __init__(self):\n",
    "        self.model = flirimageextractor.FlirImageExtractor(palettes=[cm.jet, cm.bwr, cm.gist_ncar])\n",
    "        \n",
    "    def extract_thermal_image(self, img_path):\n",
    "        self.model.process_image(img_path)\n",
    "        return self.model.get_thermal_np()"
   ]
  },
  {
   "attachments": {},
   "cell_type": "markdown",
   "metadata": {},
   "source": [
    "# Preprocessiong"
   ]
  },
  {
   "cell_type": "code",
   "execution_count": 3,
   "metadata": {},
   "outputs": [],
   "source": [
    "base_path = 'data/'\n",
    "prep = preprocess()\n",
    "data = {}\n",
    "for classes in os.listdir(base_path):\n",
    "    img_path = base_path+classes+'/'\n",
    "    cls = int(classes)\n",
    "    if  data.get(cls) is None:\n",
    "        data[cls] = []\n",
    "\n",
    "    for images in os.listdir(img_path):\n",
    "        fmt = images.split('.')\n",
    "\n",
    "        if fmt[-1] == \"jpg\":\n",
    "            id = fmt[0]\n",
    "            image_path = img_path + images\n",
    "            data[cls].append(prep.extract_thermal_image(image_path).copy())"
   ]
  },
  {
   "attachments": {},
   "cell_type": "markdown",
   "metadata": {},
   "source": [
    "# Data Preparation"
   ]
  },
  {
   "cell_type": "code",
   "execution_count": 4,
   "metadata": {},
   "outputs": [],
   "source": [
    "n_train = 4\n",
    "Y_train = np.empty((0), int)\n",
    "Y_test = np.empty((0), int)\n",
    "X_train = np.empty((0,140,140), float)\n",
    "X_test = np.empty((0,140,140), float)\n",
    "\n",
    "for label in data:\n",
    "    if label != 90:\n",
    "        n = len(data[label])\n",
    "        Y_train = np.append(Y_train, [label]*n_train, axis=0)\n",
    "        X_train = np.append(X_train, data[label][0:n_train], axis=0)\n",
    "        n -= n_train\n",
    "        Y_test = np.append(Y_test, [label]*n, axis=0)\n",
    "        X_test = np.append(X_test, data[label][n_train:], axis=0)\n",
    "    else:\n",
    "        dtr = np.array(data[label][0])\n",
    "        dtr = dtr[np.newaxis,:]\n",
    "        dte = np.array(data[label][1])\n",
    "        dte = dte[np.newaxis,:]\n",
    "        Y_train = np.append(Y_train, [label], axis=0)\n",
    "        X_train = np.append(X_train, dtr, axis=0)\n",
    "        Y_test = np.append(Y_test, [label], axis=0)\n",
    "        X_test = np.append(X_test, dte, axis=0)\n",
    "\n",
    "X_train = X_train/100\n",
    "X_test = X_test/100\n",
    "\n",
    "Y = np.zeros((11, len(Y_train)))\n",
    "for i in range(0,len(Y_train)):\n",
    "    Y[Y_train[i]//10,i] = 1"
   ]
  },
  {
   "cell_type": "code",
   "execution_count": 5,
   "metadata": {},
   "outputs": [],
   "source": [
    "def create_cnn(width=144, height=144, depth=1, filters=(4, 8, 16)):\n",
    "    inputShape = (height, width, depth)\n",
    "    chanDim = -1\n",
    "\n",
    "    inputs = tf.keras.Input(shape=inputShape)\n",
    "\t    # loop over the number of filters\n",
    "    for (i, f) in enumerate(filters):\n",
    "        if i == 0:\n",
    "            x = inputs\n",
    "            # CONV => RELU => BN => POOL\n",
    "        x = tf.keras.layers.Conv2D(f, (3, 3), padding=\"same\")(x)\n",
    "        x = tf.keras.layers.Activation(\"relu\")(x)\n",
    "        x = tf.keras.layers.BatchNormalization(axis=chanDim)(x)\n",
    "        x = tf.keras.layers.MaxPooling2D(pool_size=(2, 2))(x)\n",
    "\n",
    "    x = tf.keras.layers.Flatten()(x)\n",
    "    # x = tf.keras.layers.Dense(128)(x)\n",
    "    # x = tf.keras.layers.Activation(\"relu\")(x)\n",
    "    # x = tf.keras.layers.BatchNormalization(axis=chanDim)(x)\n",
    "    # x = tf.keras.layers.Dropout(0.5)(x)\n",
    "    # x = tf.keras.layers.Dense(64)(x)\n",
    "    # x = tf.keras.layers.Activation(\"relu\")(x)\n",
    "    # x = tf.keras.layers.BatchNormalization(axis=chanDim)(x)\n",
    "    # x = tf.keras.layers.Dropout(0.5)(x)\n",
    "    x = tf.keras.layers.Dense(16)(x)\n",
    "    x = tf.keras.layers.Activation(\"relu\")(x)\n",
    "    x = tf.keras.layers.BatchNormalization(axis=chanDim)(x)\n",
    "    x = tf.keras.layers.Dropout(0.5)(x)\n",
    "    x = tf.keras.layers.Dense(11)(x)\n",
    "    x = tf.keras.layers.Activation(\"softmax\")(x)\n",
    "    # construct the CNN\n",
    "    model = tf.keras.Model(inputs, x)\n",
    "    # return the CNN\n",
    "    return model "
   ]
  },
  {
   "cell_type": "code",
   "execution_count": 6,
   "metadata": {},
   "outputs": [
    {
     "name": "stderr",
     "output_type": "stream",
     "text": [
      "2023-05-02 13:48:56.534667: I tensorflow/stream_executor/cuda/cuda_gpu_executor.cc:966] could not open file to read NUMA node: /sys/bus/pci/devices/0000:01:00.0/numa_node\n",
      "Your kernel may have been built without NUMA support.\n",
      "2023-05-02 13:48:59.296889: I tensorflow/stream_executor/cuda/cuda_gpu_executor.cc:966] could not open file to read NUMA node: /sys/bus/pci/devices/0000:01:00.0/numa_node\n",
      "Your kernel may have been built without NUMA support.\n",
      "2023-05-02 13:48:59.296982: I tensorflow/stream_executor/cuda/cuda_gpu_executor.cc:966] could not open file to read NUMA node: /sys/bus/pci/devices/0000:01:00.0/numa_node\n",
      "Your kernel may have been built without NUMA support.\n",
      "2023-05-02 13:48:59.304971: I tensorflow/core/platform/cpu_feature_guard.cc:193] This TensorFlow binary is optimized with oneAPI Deep Neural Network Library (oneDNN) to use the following CPU instructions in performance-critical operations:  AVX2 FMA\n",
      "To enable them in other operations, rebuild TensorFlow with the appropriate compiler flags.\n",
      "2023-05-02 13:48:59.309689: I tensorflow/stream_executor/cuda/cuda_gpu_executor.cc:966] could not open file to read NUMA node: /sys/bus/pci/devices/0000:01:00.0/numa_node\n",
      "Your kernel may have been built without NUMA support.\n",
      "2023-05-02 13:48:59.309787: I tensorflow/stream_executor/cuda/cuda_gpu_executor.cc:966] could not open file to read NUMA node: /sys/bus/pci/devices/0000:01:00.0/numa_node\n",
      "Your kernel may have been built without NUMA support.\n",
      "2023-05-02 13:48:59.309834: I tensorflow/stream_executor/cuda/cuda_gpu_executor.cc:966] could not open file to read NUMA node: /sys/bus/pci/devices/0000:01:00.0/numa_node\n",
      "Your kernel may have been built without NUMA support.\n",
      "2023-05-02 13:49:04.165258: I tensorflow/stream_executor/cuda/cuda_gpu_executor.cc:966] could not open file to read NUMA node: /sys/bus/pci/devices/0000:01:00.0/numa_node\n",
      "Your kernel may have been built without NUMA support.\n",
      "2023-05-02 13:49:04.193269: I tensorflow/stream_executor/cuda/cuda_gpu_executor.cc:966] could not open file to read NUMA node: /sys/bus/pci/devices/0000:01:00.0/numa_node\n",
      "Your kernel may have been built without NUMA support.\n",
      "2023-05-02 13:49:04.193298: I tensorflow/core/common_runtime/gpu/gpu_device.cc:1700] Could not identify NUMA node of platform GPU id 0, defaulting to 0.  Your kernel may not have been built with NUMA support.\n",
      "2023-05-02 13:49:04.193405: I tensorflow/stream_executor/cuda/cuda_gpu_executor.cc:966] could not open file to read NUMA node: /sys/bus/pci/devices/0000:01:00.0/numa_node\n",
      "Your kernel may have been built without NUMA support.\n",
      "2023-05-02 13:49:04.193450: I tensorflow/core/common_runtime/gpu/gpu_device.cc:1616] Created device /job:localhost/replica:0/task:0/device:GPU:0 with 3919 MB memory:  -> device: 0, name: NVIDIA GeForce GTX 1660 Ti, pci bus id: 0000:01:00.0, compute capability: 7.5\n",
      "2023-05-02 13:49:16.927641: I tensorflow/stream_executor/cuda/cuda_dnn.cc:384] Loaded cuDNN version 8900\n"
     ]
    },
    {
     "data": {
      "text/plain": [
       "<keras.callbacks.History at 0x7f2eca149c70>"
      ]
     },
     "execution_count": 6,
     "metadata": {},
     "output_type": "execute_result"
    }
   ],
   "source": [
    "model = create_cnn(140, 140, 1)\n",
    "model.compile(loss='categorical_crossentropy', optimizer='adam', metrics=['accuracy'])\n",
    "model.fit(x=X_train, y=Y.T, epochs=200, batch_size=5, verbose=0)"
   ]
  },
  {
   "cell_type": "code",
   "execution_count": 7,
   "metadata": {},
   "outputs": [
    {
     "name": "stdout",
     "output_type": "stream",
     "text": [
      "4/4 [==============================] - 1s 65ms/step\n",
      "Confusion Matrix :\n",
      "[[ 0  0  7  0  0  0  0  0  0  0  0]\n",
      " [ 0  0  7  0  0  0  0  0  0  0  0]\n",
      " [ 0  0 10  0  0  0  0  0  0  0  0]\n",
      " [ 0  0  8  0  0  0  0  0  0  0  0]\n",
      " [ 0  0 12  0  0  0  0  0  0  0  0]\n",
      " [ 0  0 12  0  0  0  0  0  0  0  0]\n",
      " [ 0  0 14  0  0  0  0  0  0  0  0]\n",
      " [ 0  0 16  0  0  0  0  0  0  0  0]\n",
      " [ 0  0 11  0  0  0  0  0  0  0  0]\n",
      " [ 0  0  1  0  0  0  0  0  0  0  0]\n",
      " [ 0  0 18  0  0  0  0  0  0  0  0]]\n",
      "\n",
      "Accuracy: 0.09\n",
      "\n"
     ]
    },
    {
     "ename": "",
     "evalue": "",
     "output_type": "error",
     "traceback": [
      "\u001b[1;31mThe Kernel crashed while executing code in the the current cell or a previous cell. Please review the code in the cell(s) to identify a possible cause of the failure. Click <a href='https://aka.ms/vscodeJupyterKernelCrash'>here</a> for more info. View Jupyter <a href='command:jupyter.viewOutput'>log</a> for further details."
     ]
    }
   ],
   "source": [
    "preds = model.predict(X_test)\n",
    "y_pred = np.zeros(len(preds))\n",
    "\n",
    "for i in range(0,len(preds)):\n",
    "    y_pred[i] = 10 * np.argmax(preds[i,:])\n",
    "\n",
    "# print(\"True values: \", Y_test)\n",
    "# print(\"Predicted values:\", y_pred)\n",
    "print(\"Confusion Matrix :\")\n",
    "print(confusion_matrix(Y_test, y_pred))\n",
    "print('\\nAccuracy: {:.2f}\\n'.format(accuracy_score(Y_test, y_pred)))"
   ]
  }
 ],
 "metadata": {
  "kernelspec": {
   "display_name": "base",
   "language": "python",
   "name": "python3"
  },
  "language_info": {
   "codemirror_mode": {
    "name": "ipython",
    "version": 3
   },
   "file_extension": ".py",
   "mimetype": "text/x-python",
   "name": "python",
   "nbconvert_exporter": "python",
   "pygments_lexer": "ipython3",
   "version": "3.9.16"
  },
  "orig_nbformat": 4
 },
 "nbformat": 4,
 "nbformat_minor": 2
}
