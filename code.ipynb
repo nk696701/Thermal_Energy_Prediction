{
 "cells": [
  {
   "cell_type": "code",
   "execution_count": 13,
   "metadata": {},
   "outputs": [
    {
     "ename": "FileNotFoundError",
     "evalue": "[Errno 2] No such file or directory: 'test'",
     "output_type": "error",
     "traceback": [
      "\u001b[0;31m---------------------------------------------------------------------------\u001b[0m",
      "\u001b[0;31mFileNotFoundError\u001b[0m                         Traceback (most recent call last)",
      "Cell \u001b[0;32mIn[13], line 8\u001b[0m\n\u001b[1;32m      5\u001b[0m data_path \u001b[39m=\u001b[39m \u001b[39m'\u001b[39m\u001b[39mdataset/\u001b[39m\u001b[39m'\u001b[39m\n\u001b[1;32m      7\u001b[0m \u001b[39mfor\u001b[39;00m \u001b[39mdir\u001b[39m \u001b[39min\u001b[39;00m os\u001b[39m.\u001b[39mlistdir(data_path):\n\u001b[0;32m----> 8\u001b[0m     \u001b[39mfor\u001b[39;00m classes \u001b[39min\u001b[39;00m os\u001b[39m.\u001b[39;49mlistdir(\u001b[39mdir\u001b[39;49m):\n\u001b[1;32m      9\u001b[0m         \u001b[39mfor\u001b[39;00m file \u001b[39min\u001b[39;00m os\u001b[39m.\u001b[39mlistdir(classes):\n\u001b[1;32m     10\u001b[0m             fmt \u001b[39m=\u001b[39m file\u001b[39m.\u001b[39msplit(\u001b[39m'\u001b[39m\u001b[39m.\u001b[39m\u001b[39m'\u001b[39m)\n",
      "\u001b[0;31mFileNotFoundError\u001b[0m: [Errno 2] No such file or directory: 'test'"
     ]
    }
   ],
   "source": [
    "import matplotlib.pyplot as plt\n",
    "from PIL import Image\n",
    "import os\n",
    "\n",
    "data_path = 'dataset/'\n",
    "\n",
    "for dir in os.listdir(data_path):\n",
    "    for classes in os.listdir(dir):\n",
    "        for file in os.listdir(classes):\n",
    "            fmt = file.split('.')\n",
    "\n",
    "            if fmt[-1] == \"jpg\":\n",
    "                img_path = data_path+'/'+dir+'/'+classes+'/'+file\n",
    "                img = Image.open(img_path)\n",
    "                width, height = img.size\n",
    "                top_crop = 66\n",
    "                bottom_crop = 20\n",
    "                left_crop = 43\n",
    "                right_crop = 43 \n",
    "                box = (left_crop, top_crop, width-right_crop, height - bottom_crop)\n",
    "                cropped_img = img.crop(box)\n",
    "                cropped_img.save(data_path+file)\n"
   ]
  }
 ],
 "metadata": {
  "kernelspec": {
   "display_name": "tf",
   "language": "python",
   "name": "python3"
  },
  "language_info": {
   "codemirror_mode": {
    "name": "ipython",
    "version": 3
   },
   "file_extension": ".py",
   "mimetype": "text/x-python",
   "name": "python",
   "nbconvert_exporter": "python",
   "pygments_lexer": "ipython3",
   "version": "3.9.16"
  },
  "orig_nbformat": 4
 },
 "nbformat": 4,
 "nbformat_minor": 2
}
