{
 "cells": [
  {
   "attachments": {},
   "cell_type": "markdown",
   "metadata": {},
   "source": [
    "# Libraries"
   ]
  },
  {
   "cell_type": "code",
   "execution_count": 1,
   "metadata": {},
   "outputs": [],
   "source": [
    "import flirimageextractor\n",
    "from matplotlib import cm\n",
    "import os\n",
    "import matplotlib.pyplot as plt\n",
    "import numpy as np\n",
    "import warnings\n",
    "warnings.filterwarnings(\"ignore\", category=RuntimeWarning)"
   ]
  },
  {
   "attachments": {},
   "cell_type": "markdown",
   "metadata": {},
   "source": [
    "# Functions"
   ]
  },
  {
   "cell_type": "code",
   "execution_count": 2,
   "metadata": {},
   "outputs": [],
   "source": [
    "class preprocess():\n",
    "    def __init__(self):\n",
    "        self.model = flirimageextractor.FlirImageExtractor(palettes=[cm.jet, cm.bwr, cm.gist_ncar])\n",
    "        \n",
    "    def extract_thermal_image(self, img_path):\n",
    "        self.model.process_image(img_path)\n",
    "        return self.model.get_thermal_np()"
   ]
  },
  {
   "attachments": {},
   "cell_type": "markdown",
   "metadata": {},
   "source": [
    "# Preprocessiong"
   ]
  },
  {
   "cell_type": "code",
   "execution_count": 3,
   "metadata": {},
   "outputs": [],
   "source": [
    "base_path = 'dataset/230209_IR directory_2.8 V/'\n",
    "images_path = base_path+'images/'\n",
    "prep = preprocess()\n",
    "labels = []\n",
    "\n",
    "for file in os.listdir(images_path):\n",
    "    fmt = file.split('.')\n",
    "\n",
    "    if fmt[-1] == \"jpg\":\n",
    "        id = fmt[0]\n",
    "        labels.append(id.split('_')[-1])\n",
    "        img_path = images_path+file\n",
    "        thermal_img = prep.extract_thermal_image(img_path)\n",
    "        data_path = base_path +'thermal_data/' + id + '.npy'\n",
    "        np.save(data_path, thermal_img)      "
   ]
  }
 ],
 "metadata": {
  "kernelspec": {
   "display_name": "base",
   "language": "python",
   "name": "python3"
  },
  "language_info": {
   "codemirror_mode": {
    "name": "ipython",
    "version": 3
   },
   "file_extension": ".py",
   "mimetype": "text/x-python",
   "name": "python",
   "nbconvert_exporter": "python",
   "pygments_lexer": "ipython3",
   "version": "3.9.16"
  },
  "orig_nbformat": 4
 },
 "nbformat": 4,
 "nbformat_minor": 2
}
