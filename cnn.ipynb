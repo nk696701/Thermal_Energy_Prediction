{
 "cells": [
  {
   "attachments": {},
   "cell_type": "markdown",
   "metadata": {},
   "source": [
    "# Libraries"
   ]
  },
  {
   "cell_type": "code",
   "execution_count": null,
   "metadata": {},
   "outputs": [],
   "source": [
    "from PIL import Image\n",
    "import os\n",
    "import numpy as np\n",
    "from sklearn.metrics import confusion_matrix, accuracy_score\n",
    "import tensorflow as tf\n",
    "tf.get_logger().setLevel(3)"
   ]
  },
  {
   "attachments": {},
   "cell_type": "markdown",
   "metadata": {},
   "source": [
    "# Building the Neural Network"
   ]
  },
  {
   "cell_type": "code",
   "execution_count": null,
   "metadata": {},
   "outputs": [],
   "source": [
    "def create_cnn(width=154, height=154, depth=3, filters=(16, 32, 64)):\n",
    "    inputShape = (height, width, depth)\n",
    "    chanDim = -1\n",
    "\n",
    "    inputs = tf.keras.Input(shape=inputShape)\n",
    "\t    # loop over the number of filters\n",
    "    for (i, f) in enumerate(filters):\n",
    "        if i == 0:\n",
    "            x = inputs\n",
    "            # CONV => RELU => BN => POOL\n",
    "        x = tf.keras.layers.Conv2D(f, (3, 3), padding=\"same\")(x)\n",
    "        x = tf.keras.layers.Activation(\"relu\")(x)\n",
    "        x = tf.keras.layers.BatchNormalization(axis=chanDim)(x)\n",
    "        x = tf.keras.layers.MaxPooling2D(pool_size=(2, 2))(x)\n",
    "\n",
    "    x = tf.keras.layers.Flatten()(x)\n",
    "    x = tf.keras.layers.Dense(64)(x)\n",
    "    x = tf.keras.layers.Activation(\"relu\")(x)\n",
    "    x = tf.keras.layers.BatchNormalization(axis=chanDim)(x)\n",
    "    x = tf.keras.layers.Dropout(0.1)(x)\n",
    "    x = tf.keras.layers.Dense(32)(x)\n",
    "    x = tf.keras.layers.Activation(\"relu\")(x)\n",
    "    x = tf.keras.layers.BatchNormalization(axis=chanDim)(x)\n",
    "    x = tf.keras.layers.Dropout(0.1)(x)\n",
    "    x = tf.keras.layers.Dense(16)(x)\n",
    "    x = tf.keras.layers.Activation(\"relu\")(x)\n",
    "    x = tf.keras.layers.BatchNormalization(axis=chanDim)(x)\n",
    "    x = tf.keras.layers.Dropout(0.5)(x)\n",
    "    x = tf.keras.layers.Dense(11)(x)\n",
    "    x = tf.keras.layers.Activation(\"softmax\")(x)\n",
    "    # construct the CNN\n",
    "    model = tf.keras.Model(inputs, x)\n",
    "    # return the CNN\n",
    "    return model  "
   ]
  },
  {
   "attachments": {},
   "cell_type": "markdown",
   "metadata": {},
   "source": [
    "# Preprocessing and converting the data to train and test"
   ]
  },
  {
   "cell_type": "code",
   "execution_count": null,
   "metadata": {},
   "outputs": [],
   "source": [
    "base_path = 'dataset/'\n",
    "data = {}\n",
    "for classes in os.listdir(base_path):\n",
    "    img_path = base_path+classes+'/'\n",
    "    cls = int(classes)\n",
    "    if  data.get(cls) is None:\n",
    "        data[cls] = []\n",
    "\n",
    "    for images in os.listdir(img_path):\n",
    "        fmt = images.split('.')\n",
    "\n",
    "        if fmt[-1] == \"jpg\":\n",
    "            id = fmt[0]\n",
    "            image_path = img_path + images\n",
    "            img = Image.open(image_path)\n",
    "            width, height = img.size\n",
    "            top_crop = 66\n",
    "            bottom_crop = 20\n",
    "            left_crop = 43\n",
    "            right_crop = 43 \n",
    "            box = (left_crop, top_crop, width-right_crop, height - bottom_crop)\n",
    "            cropped_img = img.crop(box)\n",
    "            data[cls].append(np.array(cropped_img))\n",
    "            img.close()\n",
    "\n",
    "n_train = 4\n",
    "Y_train = np.empty((0), int)\n",
    "Y_test = np.empty((0), int)\n",
    "X_train = np.empty((0,154,154,3), float)\n",
    "X_test = np.empty((0,154,154,3), float)\n",
    "\n",
    "for label in data:\n",
    "    if label != 90:\n",
    "        n = len(data[label])\n",
    "        Y_train = np.append(Y_train, [label]*n_train, axis=0)\n",
    "        X_train = np.append(X_train, data[label][0:n_train], axis=0)\n",
    "        n -= n_train\n",
    "        Y_test = np.append(Y_test, [label]*n, axis=0)\n",
    "        X_test = np.append(X_test, data[label][n_train:], axis=0)\n",
    "    else:\n",
    "        dtr = np.array(data[label][0])\n",
    "        dtr = dtr[np.newaxis,:]\n",
    "        dte = np.array(data[label][1])\n",
    "        dte = dte[np.newaxis,:]\n",
    "        Y_train = np.append(Y_train, [label], axis=0)\n",
    "        X_train = np.append(X_train, dtr, axis=0)\n",
    "        Y_test = np.append(Y_test, [label], axis=0)\n",
    "        X_test = np.append(X_test, dte, axis=0)\n",
    "\n",
    "Y = np.zeros((11, len(Y_train)))\n",
    "for i in range(0,len(Y_train)):\n",
    "    Y[Y_train[i]//10,i] = 1"
   ]
  },
  {
   "attachments": {},
   "cell_type": "markdown",
   "metadata": {},
   "source": [
    "# Training the model"
   ]
  },
  {
   "cell_type": "code",
   "execution_count": null,
   "metadata": {},
   "outputs": [],
   "source": [
    "model = create_cnn(154, 154, 3)\n",
    "model.compile(loss='categorical_crossentropy', optimizer='adam', metrics=['accuracy'])\n",
    "model.fit(x=X_train, y=Y.T, epochs=200, batch_size=5, verbose=0)"
   ]
  },
  {
   "attachments": {},
   "cell_type": "markdown",
   "metadata": {},
   "source": [
    "# Testing the trained model"
   ]
  },
  {
   "cell_type": "code",
   "execution_count": null,
   "metadata": {},
   "outputs": [],
   "source": [
    "preds = model.predict(X_test)\n",
    "y_pred = np.zeros(len(preds))\n",
    "\n",
    "for i in range(0,len(preds)):\n",
    "    y_pred[i] = 10 * np.argmax(preds[i,:])\n",
    "\n",
    "print(\"Confusion Matrix :\")\n",
    "print(confusion_matrix(Y_test, y_pred))\n",
    "print('\\nAccuracy: {:.2f}\\n'.format(accuracy_score(Y_test, y_pred)))"
   ]
  }
 ],
 "metadata": {
  "kernelspec": {
   "display_name": "tf",
   "language": "python",
   "name": "python3"
  },
  "language_info": {
   "codemirror_mode": {
    "name": "ipython",
    "version": 3
   },
   "file_extension": ".py",
   "mimetype": "text/x-python",
   "name": "python",
   "nbconvert_exporter": "python",
   "pygments_lexer": "ipython3",
   "version": "3.9.16"
  },
  "orig_nbformat": 4
 },
 "nbformat": 4,
 "nbformat_minor": 2
}
