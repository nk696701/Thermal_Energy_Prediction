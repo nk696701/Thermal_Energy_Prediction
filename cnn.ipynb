{
 "cells": [
  {
   "attachments": {},
   "cell_type": "markdown",
   "metadata": {},
   "source": [
    "# Libraries"
   ]
  },
  {
   "cell_type": "code",
   "execution_count": null,
   "metadata": {},
   "outputs": [],
   "source": [
    "from PIL import Image\n",
    "import os\n",
    "import numpy as np\n",
    "from sklearn.metrics import confusion_matrix\n",
    "import tensorflow as tf\n",
    "tf.get_logger().setLevel(3)"
   ]
  },
  {
   "attachments": {},
   "cell_type": "markdown",
   "metadata": {},
   "source": [
    "# Building the Neural Network"
   ]
  },
  {
   "cell_type": "code",
   "execution_count": null,
   "metadata": {},
   "outputs": [],
   "source": [
    "def create_cnn(width=154, height=154, depth=3, filters=(16, 32, 64)):\n",
    "    inputShape = (height, width, depth)\n",
    "    chanDim = -1\n",
    "\n",
    "    inputs = tf.keras.Input(shape=inputShape)\n",
    "\t    # loop over the number of filters\n",
    "    for (i, f) in enumerate(filters):\n",
    "        if i == 0:\n",
    "            x = inputs\n",
    "            # CONV => RELU => BN => POOL\n",
    "        x = tf.keras.layers.Conv2D(f, (3, 3), padding=\"same\")(x)\n",
    "        x = tf.keras.layers.Activation(\"relu\")(x)\n",
    "        x = tf.keras.layers.BatchNormalization(axis=chanDim)(x)\n",
    "        x = tf.keras.layers.MaxPooling2D(pool_size=(2, 2))(x)\n",
    "\n",
    "    x = tf.keras.layers.Flatten()(x)\n",
    "    x = tf.keras.layers.Dense(16)(x)\n",
    "    x = tf.keras.layers.Activation(\"relu\")(x)\n",
    "    x = tf.keras.layers.BatchNormalization(axis=chanDim)(x)\n",
    "    x = tf.keras.layers.Dropout(0.5)(x)\n",
    "    x = tf.keras.layers.Dense(11)(x)\n",
    "    x = tf.keras.layers.Activation(\"softmax\")(x)\n",
    "    # construct the CNN\n",
    "    model = tf.keras.Model(inputs, x)\n",
    "    # return the CNN\n",
    "    return model    "
   ]
  },
  {
   "attachments": {},
   "cell_type": "markdown",
   "metadata": {},
   "source": [
    "# Preprocessing and converting the data to train and test"
   ]
  },
  {
   "cell_type": "code",
   "execution_count": null,
   "metadata": {},
   "outputs": [],
   "source": [
    "data_path = 'dataset/'\n",
    "\n",
    "X_train = []\n",
    "X_test = []\n",
    "Y_train = []\n",
    "Y_test = []\n",
    "\n",
    "for dir in os.listdir(data_path):\n",
    "    for classes in os.listdir(data_path+'/'+ dir):\n",
    "        for file in os.listdir(data_path+'/'+dir+'/'+classes):\n",
    "            fmt = file.split('.')\n",
    "\n",
    "            if fmt[-1] == \"jpg\":\n",
    "                img_path = data_path+'/'+dir+'/'+classes+'/'+file\n",
    "                img = np.array(Image.open(img_path))\n",
    "                if dir == 'train':\n",
    "                    X_train.append(img)\n",
    "                    Y_train.append(int(classes))\n",
    "                elif dir == 'test':\n",
    "                    X_test.append(img)\n",
    "                    Y_test.append(int(classes))\n",
    "\n",
    "X_train = np.array(X_train)\n",
    "X_test = np.array(X_test)\n",
    "Y_train = np.array(Y_train)\n",
    "Y_test = np.array(Y_test)\n",
    "\n",
    "Y = np.zeros((11, len(Y_train)))\n",
    "for i in range(0,len(Y_train)):\n",
    "    Y[Y_train[i]//10,i] = 1"
   ]
  },
  {
   "attachments": {},
   "cell_type": "markdown",
   "metadata": {},
   "source": [
    "# Training the model"
   ]
  },
  {
   "cell_type": "code",
   "execution_count": null,
   "metadata": {},
   "outputs": [],
   "source": [
    "model = create_cnn(154, 154, 3)\n",
    "model.compile(loss='categorical_crossentropy', optimizer='adam', metrics=['accuracy'])\n",
    "model.fit(x=X_train, y=Y.T, epochs=200, batch_size=5, verbose=0)"
   ]
  },
  {
   "attachments": {},
   "cell_type": "markdown",
   "metadata": {},
   "source": [
    "# Testing the trained model"
   ]
  },
  {
   "cell_type": "code",
   "execution_count": 6,
   "metadata": {},
   "outputs": [
    {
     "name": "stdout",
     "output_type": "stream",
     "text": [
      "1/1 [==============================] - 0s 24ms/step\n",
      "True values:  [ 80  70  50  10  40 100  90   0  60  20  30]\n",
      "Predicted values: [ 70.  70.  50.  10.  40. 100.  80.   0.  60.  20.  30.]\n",
      "Confusion Matrix :\n",
      "[[1 0 0 0 0 0 0 0 0 0 0]\n",
      " [0 1 0 0 0 0 0 0 0 0 0]\n",
      " [0 0 1 0 0 0 0 0 0 0 0]\n",
      " [0 0 0 1 0 0 0 0 0 0 0]\n",
      " [0 0 0 0 1 0 0 0 0 0 0]\n",
      " [0 0 0 0 0 1 0 0 0 0 0]\n",
      " [0 0 0 0 0 0 1 0 0 0 0]\n",
      " [0 0 0 0 0 0 0 1 0 0 0]\n",
      " [0 0 0 0 0 0 0 1 0 0 0]\n",
      " [0 0 0 0 0 0 0 0 1 0 0]\n",
      " [0 0 0 0 0 0 0 0 0 0 1]]\n"
     ]
    }
   ],
   "source": [
    "preds = model.predict(X_test)\n",
    "y_pred = np.zeros(len(preds))\n",
    "\n",
    "for i in range(0,len(preds)):\n",
    "    y_pred[i] = 10 * np.argmax(preds[i,:])\n",
    "\n",
    "print(\"True values: \", Y_test)\n",
    "print(\"Predicted values:\", y_pred)\n",
    "print(\"Confusion Matrix :\")\n",
    "print(confusion_matrix(Y_test, y_pred))"
   ]
  }
 ],
 "metadata": {
  "kernelspec": {
   "display_name": "tf",
   "language": "python",
   "name": "python3"
  },
  "language_info": {
   "codemirror_mode": {
    "name": "ipython",
    "version": 3
   },
   "file_extension": ".py",
   "mimetype": "text/x-python",
   "name": "python",
   "nbconvert_exporter": "python",
   "pygments_lexer": "ipython3",
   "version": "3.9.16"
  },
  "orig_nbformat": 4
 },
 "nbformat": 4,
 "nbformat_minor": 2
}
